{
  "nbformat": 4,
  "nbformat_minor": 0,
  "metadata": {
    "colab": {
      "provenance": []
    },
    "kernelspec": {
      "name": "python3",
      "display_name": "Python 3"
    }
  },
  "cells": [
    {
      "cell_type": "markdown",
      "metadata": {
        "id": "hVbXYX-RfPWh"
      },
      "source": [
        "# Algoritmos de optimización - Seminario<br>\n",
        "Nombre y Apellidos: Andres Leonardo Castillo Cortes  <br>\n",
        "Url: https://github.com/.../03MAIR---Algoritmos-de-Optimizacion---2019/tree/master/SEMINARIO<br>\n",
        "Problema:\n",
        "> 1. Sesiones de doblaje <br>\n",
        ">\n",
        "\n",
        "Descripción del problema:(copiar enunciado)\n",
        "\n",
        "Se precisa coordinar el doblaje de una película. Los actores del doblaje deben coincidir en las\n",
        "tomas en las que sus personajes aparecen juntos en las diferentes tomas. Los actores de\n",
        "doblaje cobran todos la misma cantidad por cada día que deben desplazarse hasta el estudio de\n",
        "grabación independientemente del número de tomas que se graben. No es posible grabar más\n",
        "de 6 tomas por día. El objetivo es planificar las sesiones por día de manera que el gasto por los\n",
        "servicios de los actores de doblaje sea el menor posible. Los datos son:\n",
        "Número de actores: 10\n",
        "Número de tomas : 30\n",
        "....\n",
        "\n",
        "(*) La respuesta es obligatoria\n",
        "\n",
        "\n",
        "\n",
        "\n",
        "\n",
        "                                        "
      ]
    },
    {
      "cell_type": "code",
      "metadata": {
        "id": "AiskKkzZfy4e"
      },
      "source": [],
      "execution_count": null,
      "outputs": []
    },
    {
      "cell_type": "markdown",
      "metadata": {
        "id": "3_-exlrTgLd-"
      },
      "source": [
        "(*)¿Cuantas posibilidades hay sin tener en cuenta las restricciones?<br>\n",
        "\n",
        "\n",
        "\n",
        "¿Cuantas posibilidades hay teniendo en cuenta todas las restricciones.\n",
        "\n",
        "\n"
      ]
    },
    {
      "cell_type": "markdown",
      "metadata": {
        "id": "WfCUqJyKhPcw"
      },
      "source": [
        "Respuesta"
      ]
    },
    {
      "cell_type": "code",
      "metadata": {
        "id": "iq6Fe32MgpDX",
        "colab": {
          "base_uri": "https://localhost:8080/"
        },
        "outputId": "62a223e1-31c8-49c1-fe78-9a03623446b0"
      },
      "source": [
        "# Definir el número de tomas y días mínimos (sin restricciones)\n",
        "num_tomas = 30\n",
        "dias_minimos = 5  # Estimado mínimo de días para grabar\n",
        "\n",
        "# Calcular el número de posibilidades sin restricciones\n",
        "posibilidades_sin_restricciones = dias_minimos ** num_tomas\n",
        "\n",
        "# Mostrar el resultado\n",
        "print(f\"Posibilidades sin restricciones: {posibilidades_sin_restricciones}\")\n"
      ],
      "execution_count": null,
      "outputs": [
        {
          "output_type": "stream",
          "name": "stdout",
          "text": [
            "Posibilidades sin restricciones: 931322574615478515625\n"
          ]
        }
      ]
    },
    {
      "cell_type": "code",
      "source": [
        "import pandas as pd\n",
        "import numpy as np\n",
        "from itertools import combinations\n",
        "\n",
        "\n",
        "\n",
        "# Cargar los datos (reemplaza 'ruta_del_archivo' con la ruta de tu archivo CSV)\n",
        "\n",
        "ruta_del_archivo = 'Datos.csv'\n",
        "datos_doblaje = pd.read_csv(ruta_del_archivo)\n",
        "\n",
        "# Limpiar los datos para eliminar las columnas innecesarias y convertir a numéricos\n",
        "datos_doblaje_clean = datos_doblaje.drop(index=0)\n",
        "datos_doblaje_clean.columns = ['Toma', 'Actor 1', 'Actor 2', 'Actor 3', 'Actor 4', 'Actor 5',\n",
        "                               'Actor 6', 'Actor 7', 'Actor 8', 'Actor 9', 'Actor 10', 'Extra', 'Total']\n",
        "\n",
        "# Eliminar filas que contienen valores no numéricos como 'TOTAL'\n",
        "datos_doblaje_clean = datos_doblaje_clean[~datos_doblaje_clean.eq('TOTAL').any(axis=1)]\n",
        "\n",
        "# Eliminar las columnas innecesarias\n",
        "datos_doblaje_clean = datos_doblaje_clean.drop(columns=['Extra', 'Total'])\n",
        "datos_doblaje_clean = datos_doblaje_clean.reset_index(drop=True)\n",
        "\n",
        "# Convertir los valores a numéricos\n",
        "datos_doblaje_clean = datos_doblaje_clean.apply(pd.to_numeric)\n",
        "\n",
        "# Definir la cantidad de tomas y el máximo de tomas por día\n",
        "num_tomas = 30\n",
        "max_tomas_por_dia = 6\n",
        "\n",
        "# Calcular las combinaciones posibles respetando las restricciones\n",
        "def contar_combinaciones_validas(matriz_participacion, max_tomas_por_dia):\n",
        "    num_tomas, num_actores = matriz_participacion.shape\n",
        "    tomas_restantes = set(range(num_tomas))\n",
        "    combinaciones_validas = 0\n",
        "\n",
        "    # Generar todas las combinaciones posibles de tomas respetando la coincidencia de actores\n",
        "    for r in range(1, max_tomas_por_dia + 1):\n",
        "        for comb in combinations(tomas_restantes, r):\n",
        "            actores_dia = set()\n",
        "            for toma in comb:\n",
        "                actores_dia.update(np.where(matriz_participacion[toma] == 1)[0])\n",
        "            if len(actores_dia) <= max_tomas_por_dia:  # Si los actores pueden coincidir en un día\n",
        "                combinaciones_validas += 1\n",
        "    return combinaciones_validas\n",
        "\n",
        "# Usar la matriz de participación para contar las combinaciones válidas\n",
        "combinaciones_validas = contar_combinaciones_validas(datos_doblaje_clean.drop(columns=['Toma']).to_numpy(), max_tomas_por_dia)\n",
        "\n",
        "# Mostrar el resultado\n",
        "print(f\"Posibilidades con restricciones: {combinaciones_validas}\")\n"
      ],
      "metadata": {
        "colab": {
          "base_uri": "https://localhost:8080/"
        },
        "id": "nWw_fYlASEAw",
        "outputId": "14e8ab1b-85dc-4fea-f4df-b25db793f736"
      },
      "execution_count": 8,
      "outputs": [
        {
          "output_type": "stream",
          "name": "stdout",
          "text": [
            "Posibilidades con restricciones: 160014\n"
          ]
        }
      ]
    },
    {
      "cell_type": "markdown",
      "metadata": {
        "id": "dzynfVJahHoY"
      },
      "source": [
        "Modelo para el espacio de soluciones<br>\n",
        "(*) ¿Cual es la estructura de datos que mejor se adapta al problema? Argumentalo.(Es posible que hayas elegido una al principio y veas la necesidad de cambiar, arguentalo)\n"
      ]
    },
    {
      "cell_type": "markdown",
      "metadata": {
        "id": "xFIJrOwKi2Ti"
      },
      "source": [
        "Respuesta\n",
        "\n",
        "Para abordar este problema de planificación de doblaje de una película, donde se requiere minimizar el número de días de grabación respetando las restricciones de participación de actores y el número máximo de tomas por día, la estructura de datos ideal debe poder:\n",
        "\n",
        "Representar la participación de actores en las tomas (qué actores participan en qué tomas).\n",
        "Facilitar la verificación de restricciones, como el número máximo de tomas por día y la coincidencia de actores.\n",
        "A continuación, analizo las estructuras de datos que se pueden usar y argumento por qué una estructura puede ser mejor que otra para este problema.\n",
        "\n",
        "1. Matriz o DataFrame (Pandas)\n",
        "Por qué se usó inicialmente:\n",
        "Descripción: Al principio, se utilizó un DataFrame de Pandas para representar las tomas y actores. Este es un enfoque bastante natural para datos tabulares donde:\n",
        "Las filas representan cada toma.\n",
        "Las columnas representan los actores, y el valor es binario (1 si el actor participa en la toma, 0 si no lo hace).\n",
        "Ventajas:\n",
        "Es fácil de manipular y visualizar.\n",
        "Permite operar rápidamente con datos a nivel de filas o columnas para verificar si un actor participa en una toma específica.\n",
        "Pandas ofrece funciones eficientes para la manipulación y limpieza de datos, que es útil cuando se trabaja con grandes cantidades de datos.\n",
        "Limitaciones:\n",
        "A medida que se profundiza en la resolución del problema, trabajar con restricciones complejas, como la coincidencia de actores y las combinaciones posibles de tomas, se vuelve más difícil y menos eficiente utilizando únicamente DataFrames.\n",
        "La verificación de restricciones en combinaciones de tomas es costosa si se realiza con DataFrames porque requiere operaciones iterativas sobre subconjuntos de datos.\n",
        "2. Conjuntos (Sets) y Diccionarios (Dicts)\n",
        "Por qué puede ser una mejor elección:\n",
        "Descripción: A medida que se avanza en la planificación y asignación de tomas a días, los conjuntos (sets) son más adecuados para representar combinaciones de actores o tomas, ya que:\n",
        "Permiten verificar la pertenencia de actores a tomas de manera muy eficiente.\n",
        "Facilitan el manejo de restricciones, ya que se pueden comparar fácilmente conjuntos de actores o tomas.\n",
        "Diccionarios (dicts) también pueden ser útiles para almacenar la relación entre los días y las tomas asignadas, con una estructura tipo {día: [lista de tomas]}. Esto facilita la verificación del número de tomas por día y la coincidencia de actores.\n",
        "Ventajas:\n",
        "Eficiencia: Verificar la pertenencia o coincidencia de elementos (actores o tomas) en un conjunto es una operación muy rápida, lo cual es importante para este problema donde hay muchas combinaciones posibles.\n",
        "Simplicidad: Los conjuntos permiten manejar combinaciones y restricciones de una forma directa y comprensible, evitando la complejidad de operar con estructuras tabulares más rígidas.\n",
        "Flexibilidad: Los diccionarios permiten organizar los días de grabación de manera flexible y adaptativa, facilitando el proceso de asignación y verificación de restricciones.\n",
        "3. ¿Por qué cambiar a conjuntos/diccionarios?\n",
        "Inicialmente, el uso de DataFrames fue útil para organizar y visualizar la relación entre actores y tomas. Sin embargo, al tratar de resolver el problema de asignación con restricciones, donde se necesitan combinaciones y verificaciones rápidas de actores y tomas, los conjuntos y diccionarios ofrecen una solución más eficiente y flexible.\n",
        "\n",
        "Estructura final recomendada:\n",
        "Conjuntos para representar combinaciones de actores por día.\n",
        "Diccionarios para mapear días a las tomas asignadas.\n",
        "Argumento:\n",
        "Los conjuntos y diccionarios ofrecen operaciones rápidas para manejar combinaciones y restricciones.\n",
        "La estructura de diccionario es natural para este tipo de problema, donde cada día tiene un conjunto de tomas asociado, y cada toma tiene un conjunto de actores asociados.\n",
        "En resumen, aunque el DataFrame es ideal para la carga y preprocesamiento de los datos, cambiar a una combinación de conjuntos y diccionarios permite un manejo más eficiente de las restricciones durante la solución del problema."
      ]
    },
    {
      "cell_type": "code",
      "metadata": {
        "id": "38c-7-ejhJmA",
        "colab": {
          "base_uri": "https://localhost:8080/"
        },
        "outputId": "6fe69a05-e997-459e-fc17-75f8b4adfdac"
      },
      "source": [
        "import pandas as pd\n",
        "import numpy as np\n",
        "\n",
        "# Cargar el archivo CSV original\n",
        "ruta_del_archivo = 'Datos.csv'  # Cambia esta ruta según sea necesario\n",
        "datos_doblaje = pd.read_csv(ruta_del_archivo)\n",
        "\n",
        "# Mostrar las primeras filas originales\n",
        "print(\"Primeras filas del archivo CSV original:\")\n",
        "print(datos_doblaje.head())\n",
        "\n",
        "# Renombrar las columnas correctamente, usando los nombres apropiados\n",
        "datos_doblaje.columns = ['Toma', 'Actor 1', 'Actor 2', 'Actor 3', 'Actor 4', 'Actor 5',\n",
        "                         'Actor 6', 'Actor 7', 'Actor 8', 'Actor 9', 'Actor 10', 'Extra', 'Total']\n",
        "\n",
        "# Eliminar la primera fila, ya que es solo una fila descriptiva (contiene \"Toma\", \"Actor 1\", etc.)\n",
        "datos_doblaje = datos_doblaje.drop(index=0)\n",
        "\n",
        "# Eliminar la columna 'Extra' y 'Total', que no son necesarias para el análisis\n",
        "datos_doblaje = datos_doblaje.drop(columns=['Extra', 'Total'])\n",
        "\n",
        "# Convertir las columnas a numéricos para evitar errores\n",
        "datos_doblaje = datos_doblaje.apply(pd.to_numeric, errors='coerce')\n",
        "\n",
        "# Eliminar las filas que contengan NaN en cualquier columna (como la columna \"Total\" vacía)\n",
        "datos_doblaje = datos_doblaje.dropna()\n",
        "\n",
        "# Reiniciar los índices del DataFrame para que sean consecutivos\n",
        "datos_doblaje = datos_doblaje.reset_index(drop=True)\n",
        "\n",
        "# Mostrar las primeras filas después de limpiar\n",
        "print(\"Primeras filas después de limpiar:\")\n",
        "print(datos_doblaje.head())\n",
        "\n",
        "# Continuar con el procesamiento de los datos, como convertir la tabla en un diccionario de tomas y actores...\n",
        "\n",
        "\n",
        "from itertools import combinations\n",
        "\n",
        "# Convertir la tabla en un diccionario donde la clave sea el número de toma y el valor sea un set de actores\n",
        "participacion_dict = {}\n",
        "\n",
        "for idx, row in datos_doblaje.iterrows():\n",
        "    toma = int(row['Toma'])  # Convertir la toma a entero\n",
        "    actores = {actor for actor, participa in enumerate(row[1:], start=1) if participa == 1}\n",
        "    participacion_dict[toma] = actores\n",
        "\n",
        "# Función para contar combinaciones válidas respetando las restricciones\n",
        "def contar_combinaciones_validas(participacion_dict, max_tomas_por_dia):\n",
        "    tomas = list(participacion_dict.keys())\n",
        "    combinaciones_validas = 0\n",
        "\n",
        "    # Generar combinaciones de tomas\n",
        "    for comb in combinations(tomas, max_tomas_por_dia):  # Generar combinaciones con exactamente 6 tomas\n",
        "        actores_dia = set()  # Actores que deben estar presentes el mismo día\n",
        "        for toma in comb:\n",
        "            actores_dia.update(participacion_dict[toma])\n",
        "        # Solo contar las combinaciones si hay 10 actores o menos\n",
        "        if len(actores_dia) <= 10:\n",
        "            combinaciones_validas += 1\n",
        "\n",
        "    return combinaciones_validas\n",
        "\n",
        "# Definir el máximo de tomas por día\n",
        "max_tomas_por_dia = 6\n",
        "\n",
        "# Calcular las combinaciones válidas respetando las restricciones de tomas por día\n",
        "combinaciones_validas = contar_combinaciones_validas(participacion_dict, max_tomas_por_dia)\n",
        "\n",
        "# Mostrar el resultado\n",
        "print(f\"Posibilidades con restricciones: {combinaciones_validas}\")\n",
        "\n"
      ],
      "execution_count": 17,
      "outputs": [
        {
          "output_type": "stream",
          "name": "stdout",
          "text": [
            "Primeras filas del archivo CSV original:\n",
            "  Unnamed: 0  Actor  Unnamed: 2  Unnamed: 3  Unnamed: 4  Unnamed: 5  \\\n",
            "0       Toma    1.0         2.0         3.0         4.0         5.0   \n",
            "1          1    1.0         1.0         1.0         1.0         1.0   \n",
            "2          2    0.0         0.0         1.0         1.0         1.0   \n",
            "3          3    0.0         1.0         0.0         0.0         1.0   \n",
            "4          4    1.0         1.0         0.0         0.0         0.0   \n",
            "\n",
            "   Unnamed: 6  Unnamed: 7  Unnamed: 8  Unnamed: 9  Unnamed: 10  Unnamed: 11  \\\n",
            "0         6.0         7.0         8.0         9.0         10.0          NaN   \n",
            "1         0.0         0.0         0.0         0.0          0.0          NaN   \n",
            "2         0.0         0.0         0.0         0.0          0.0          NaN   \n",
            "3         0.0         1.0         0.0         0.0          0.0          NaN   \n",
            "4         0.0         1.0         1.0         0.0          0.0          NaN   \n",
            "\n",
            "  Unnamed: 12  \n",
            "0       Total  \n",
            "1           5  \n",
            "2           3  \n",
            "3           3  \n",
            "4           4  \n",
            "Primeras filas después de limpiar:\n",
            "   Toma  Actor 1  Actor 2  Actor 3  Actor 4  Actor 5  Actor 6  Actor 7  \\\n",
            "0   1.0      1.0      1.0      1.0      1.0      1.0      0.0      0.0   \n",
            "1   2.0      0.0      0.0      1.0      1.0      1.0      0.0      0.0   \n",
            "2   3.0      0.0      1.0      0.0      0.0      1.0      0.0      1.0   \n",
            "3   4.0      1.0      1.0      0.0      0.0      0.0      0.0      1.0   \n",
            "4   5.0      0.0      1.0      0.0      1.0      0.0      0.0      0.0   \n",
            "\n",
            "   Actor 8  Actor 9  Actor 10  \n",
            "0      0.0      0.0       0.0  \n",
            "1      0.0      0.0       0.0  \n",
            "2      0.0      0.0       0.0  \n",
            "3      1.0      0.0       0.0  \n",
            "4      1.0      0.0       0.0  \n",
            "Posibilidades con restricciones: 593775\n"
          ]
        }
      ]
    },
    {
      "cell_type": "markdown",
      "metadata": {
        "id": "7Z9U2W7bi-XS"
      },
      "source": [
        "Según el modelo para el espacio de soluciones<br>\n",
        "(*)¿Cual es la función objetivo?\n",
        "\n",
        "(*)¿Es un problema de maximización o minimización?"
      ]
    },
    {
      "cell_type": "markdown",
      "metadata": {
        "id": "hBalWLM7j1_d"
      },
      "source": [
        "Respuesta\n",
        "\n",
        "*La función objetivo en este problema es minimizar el número de\n",
        " días de grabación necesarios para completar todas las tomas, asegurando que:\n",
        "\n",
        " No se graben más de 6 tomas por día.\n",
        "\n",
        " No haya más de 10 actores participando por día.\n",
        "\n",
        "\n",
        "\n",
        "*La función objetivo es minimizar el número total de días de grabación necesarios para completar todas las tomas, respetando las restricciones de no grabar más de 6 tomas por día y no tener más de 10 actores participando en un mismo día.\n",
        "\n",
        "El objetivo es utilizar la menor cantidad posible de días para realizar todas las tomas, lo que lo convierte en un problema de minimización.\n",
        "\n"
      ]
    },
    {
      "cell_type": "code",
      "metadata": {
        "id": "pDA-rg3Gj5Lz",
        "colab": {
          "base_uri": "https://localhost:8080/"
        },
        "outputId": "e78a9bb0-769d-4bc7-9515-eed001f03496"
      },
      "source": [
        "from itertools import combinations\n",
        "\n",
        "# Convertir la tabla en un diccionario donde la clave sea el número de toma y el valor sea un set de actores\n",
        "participacion_dict = {}\n",
        "\n",
        "for idx, row in datos_doblaje.iterrows():\n",
        "    toma = int(row['Toma'])  # Convertir la toma a entero\n",
        "    actores = {actor for actor, participa in enumerate(row[1:], start=1) if participa == 1}\n",
        "    participacion_dict[toma] = actores\n",
        "\n",
        "# Función para contar combinaciones válidas respetando las restricciones\n",
        "def contar_combinaciones_validas(participacion_dict, max_tomas_por_dia):\n",
        "    tomas = list(participacion_dict.keys())\n",
        "    combinaciones_validas = 0\n",
        "\n",
        "    # Generar combinaciones de tomas\n",
        "    for comb in combinations(tomas, max_tomas_por_dia):  # Generar combinaciones con exactamente 6 tomas\n",
        "        actores_dia = set()  # Actores que deben estar presentes el mismo día\n",
        "        for toma in comb:\n",
        "            actores_dia.update(participacion_dict[toma])\n",
        "        # Solo contar las combinaciones si hay 10 actores o menos\n",
        "        if len(actores_dia) <= 10:\n",
        "            combinaciones_validas += 1\n",
        "\n",
        "    return combinaciones_validas\n",
        "\n",
        "# Definir el máximo de tomas por día\n",
        "max_tomas_por_dia = 6\n",
        "\n",
        "# Calcular las combinaciones válidas respetando las restricciones de tomas por día\n",
        "combinaciones_validas = contar_combinaciones_validas(participacion_dict, max_tomas_por_dia)\n",
        "\n",
        "# Mostrar el resultado\n",
        "print(f\"Posibilidades con restricciones: {combinaciones_validas}\")\n"
      ],
      "execution_count": 18,
      "outputs": [
        {
          "output_type": "stream",
          "name": "stdout",
          "text": [
            "Posibilidades con restricciones: 593775\n"
          ]
        }
      ]
    },
    {
      "cell_type": "markdown",
      "metadata": {
        "id": "rlnTYgY1j6I2"
      },
      "source": [
        "Diseña un algoritmo para resolver el problema por fuerza bruta"
      ]
    },
    {
      "cell_type": "markdown",
      "metadata": {
        "id": "70rDgxYXkC8r"
      },
      "source": [
        "Respuesta\n",
        "\n",
        "*Generar todas las combinaciones de tomas posibles por día respetando el límite de 6 tomas por día.\n",
        "\n",
        "*Verificar las restricciones de que no haya más de 10 actores participando en esas tomas por día.\n",
        "\n",
        "*Evaluar todas las posibles asignaciones de tomas a días.\n",
        "\n",
        "*Minimizar el número de días utilizados que cumplan con las restricciones."
      ]
    },
    {
      "cell_type": "code",
      "metadata": {
        "id": "CJb5sQ0qkENy",
        "colab": {
          "base_uri": "https://localhost:8080/"
        },
        "outputId": "6fda05ec-82a5-4006-aaff-73a3ea08e314"
      },
      "source": [
        "from itertools import combinations\n",
        "\n",
        "# Convertir la tabla en un diccionario donde la clave sea el número de toma y el valor sea un set de actores\n",
        "def obtener_diccionario_participacion(datos_doblaje):\n",
        "    participacion_dict = {}\n",
        "    for idx, row in datos_doblaje.iterrows():\n",
        "        toma = int(row['Toma'])  # Convertir la toma a entero\n",
        "        actores = {actor for actor, participa in enumerate(row[1:], start=1) if participa == 1}\n",
        "        participacion_dict[toma] = actores\n",
        "    return participacion_dict\n",
        "\n",
        "# Verificar si una combinación de tomas cumple con las restricciones de actores\n",
        "def es_valida(comb, participacion_dict, max_actores_por_dia):\n",
        "    actores_dia = set()\n",
        "    for toma in comb:\n",
        "        actores_dia.update(participacion_dict[toma])\n",
        "    return len(actores_dia) <= max_actores_por_dia\n",
        "\n",
        "# Algoritmo de fuerza bruta para encontrar la solución mínima\n",
        "def fuerza_bruta_minimizar_dias(datos_doblaje, max_tomas_por_dia=6, max_actores_por_dia=10):\n",
        "    participacion_dict = obtener_diccionario_participacion(datos_doblaje)\n",
        "    tomas = list(participacion_dict.keys())\n",
        "    num_tomas = len(tomas)\n",
        "\n",
        "    # Encontrar todas las combinaciones válidas de tomas por día\n",
        "    posibles_asignaciones = []\n",
        "    for r in range(1, max_tomas_por_dia + 1):\n",
        "        for comb in combinations(tomas, r):\n",
        "            if es_valida(comb, participacion_dict, max_actores_por_dia):\n",
        "                posibles_asignaciones.append(comb)\n",
        "\n",
        "    # Algoritmo de fuerza bruta para probar todas las posibles asignaciones de tomas a días\n",
        "    mejor_solucion = float('inf')  # Iniciar con el peor caso (infinito)\n",
        "    for asignacion in combinations(posibles_asignaciones, num_tomas // max_tomas_por_dia + 1):\n",
        "        tomas_cubiertas = set()\n",
        "        for dia in asignacion:\n",
        "            tomas_cubiertas.update(dia)\n",
        "        if len(tomas_cubiertas) == num_tomas:  # Todas las tomas están cubiertas\n",
        "            mejor_solucion = min(mejor_solucion, len(asignacion))  # Minimizar los días\n",
        "\n",
        "    return mejor_solucion if mejor_solucion != float('inf') else -1  # Retornar -1 si no hay solución\n",
        "\n",
        "# Ejecutar el algoritmo de fuerza bruta con los datos de doblaje\n",
        "# Supongamos que datos_doblaje es el DataFrame con las tomas y actores\n",
        "dias_minimos = fuerza_bruta_minimizar_dias(datos_doblaje)\n",
        "\n",
        "print(f\"Número mínimo de días de grabación: {dias_minimos}\")\n"
      ],
      "execution_count": 34,
      "outputs": [
        {
          "output_type": "stream",
          "name": "stdout",
          "text": [
            "Número mínimo de días de grabación: 1\n"
          ]
        }
      ]
    },
    {
      "cell_type": "markdown",
      "metadata": {
        "id": "tgrnsC2nkFa8"
      },
      "source": [
        "Calcula la complejidad del algoritmo por fuerza bruta"
      ]
    },
    {
      "cell_type": "markdown",
      "metadata": {
        "id": "9eUd3xwckP68"
      },
      "source": [
        "Respuesta\n",
        "\n",
        "La complejidad del algoritmo de fuerza bruta es extremadamente alta debido al número de combinaciones y asignaciones que debe evaluar.\n",
        "\n",
        "Combinaciones posibles de 6 tomas a partir de 30:\n",
        "593\n",
        ",\n",
        "775\n",
        "593,775 combinaciones.\n",
        "Asignaciones posibles (en base a\n",
        "2\n",
        "𝑛\n",
        "2\n",
        "n\n",
        " ):\n",
        "1\n",
        ",\n",
        "073\n",
        ",\n",
        "741\n",
        ",\n",
        "824\n",
        "1,073,741,824 asignaciones.\n",
        "Complejidad total: El número total de operaciones (combinaciones multiplicadas por las asignaciones y el término lineal) es 19,126,831,546,368,000.\n",
        "Esto confirma que el algoritmo de fuerza bruta tiene una complejidad exponencial extremadamente alta, lo que explica los largos tiempos de ejecución"
      ]
    },
    {
      "cell_type": "code",
      "metadata": {
        "id": "rvZWwL-ckRST",
        "colab": {
          "base_uri": "https://localhost:8080/"
        },
        "outputId": "892984c0-df14-48b1-eed3-e4e7e8268fa6"
      },
      "source": [
        "import math\n",
        "from itertools import combinations\n",
        "\n",
        "# Parámetros del problema\n",
        "n = 30  # Número de tomas\n",
        "r = 6   # Máximo de tomas por día\n",
        "\n",
        "# Calcular el número de combinaciones posibles de 6 tomas de 30\n",
        "combinaciones = math.comb(n, r)\n",
        "\n",
        "# Calcular el número de posibles asignaciones (exponencial en n)\n",
        "asignaciones = 2 ** n\n",
        "\n",
        "# Complejidad total (multiplicamos por 'n' para considerar la verificación de restricciones en cada combinación)\n",
        "complejidad_total = combinaciones * asignaciones * n\n",
        "\n",
        "# Mostrar los resultados\n",
        "print(f\"Combinaciones posibles de {n} tomas en grupos de {r}: {combinaciones}\")\n",
        "print(f\"Posibles asignaciones (2^n): {asignaciones}\")\n",
        "print(f\"Complejidad total del algoritmo de fuerza bruta: {complejidad_total}\")\n",
        "\n",
        "\n"
      ],
      "execution_count": 27,
      "outputs": [
        {
          "output_type": "stream",
          "name": "stdout",
          "text": [
            "Combinaciones posibles de 30 tomas en grupos de 6: 593775\n",
            "Posibles asignaciones (2^n): 1073741824\n",
            "Complejidad total del algoritmo de fuerza bruta: 19126831546368000\n"
          ]
        }
      ]
    },
    {
      "cell_type": "markdown",
      "metadata": {
        "id": "txbrmLmskReM"
      },
      "source": [
        "(*)Diseña un algoritmo que mejore la complejidad del algortimo por fuerza bruta. Argumenta porque crees que mejora el algoritmo por fuerza bruta"
      ]
    },
    {
      "cell_type": "markdown",
      "metadata": {
        "id": "hLrVwt5QkZPD"
      },
      "source": [
        "Respuesta\n",
        "Programación Lineal Entera (MILP):\n",
        "\n",
        "Utilizamos un modelo de programación lineal entera para minimizar el número de días de grabación, con restricciones sobre la cantidad máxima de tomas por día y el número máximo de actores que pueden participar en un mismo día.\n",
        "\n",
        "Mejoras respecto a la fuerza bruta:\n",
        "\n",
        "El enfoque evita generar todas las combinaciones posibles y, en su lugar, explora únicamente las soluciones factibles.\n",
        "\n",
        "Se garantiza una solución óptima en mucho menos tiempo en comparación con el algoritmo de fuerza bruta, cuya complejidad exponencial lo hacía impráctico para problemas de este tamaño."
      ]
    },
    {
      "cell_type": "code",
      "metadata": {
        "id": "m1eyM21Vkabg",
        "colab": {
          "base_uri": "https://localhost:8080/"
        },
        "outputId": "a5de52b5-1c32-48e5-83c7-8904018dfb1f"
      },
      "source": [
        "import pulp\n",
        "import numpy as np\n",
        "\n",
        "# Supongamos que tenemos el diccionario de participación de actores en tomas\n",
        "def optimizar_programacion(datos_doblaje, max_tomas_por_dia=6, max_actores_por_dia=10):\n",
        "    # Convertir el DataFrame a diccionario de participación\n",
        "    participacion_dict = {}\n",
        "    for idx, row in datos_doblaje.iterrows():\n",
        "        toma = int(row['Toma'])\n",
        "        actores = {actor for actor, participa in enumerate(row[1:], start=1) if participa == 1}\n",
        "        participacion_dict[toma] = actores\n",
        "\n",
        "    num_tomas = len(participacion_dict)\n",
        "    num_dias = (num_tomas // max_tomas_por_dia) + 1  # Estimación del número máximo de días\n",
        "\n",
        "    # Definir el problema de programación lineal\n",
        "    prob = pulp.LpProblem(\"Minimizar_Dias_Grabacion\", pulp.LpMinimize)\n",
        "\n",
        "    # Variables de decisión: x[i,j] indica si la toma i se asigna al día j, y[j] indica si se usa el día j\n",
        "    x = pulp.LpVariable.dicts(\"x\", ((i, j) for i in range(num_tomas) for j in range(num_dias)), cat='Binary')\n",
        "    y = pulp.LpVariable.dicts(\"y\", range(num_dias), cat='Binary')\n",
        "\n",
        "    # Función objetivo: minimizar el número de días utilizados\n",
        "    prob += pulp.lpSum(y[j] for j in range(num_dias)), \"Minimizar_numero_dias\"\n",
        "\n",
        "    # Restricción 1: Cada toma debe ser asignada exactamente a un día\n",
        "    for i in range(num_tomas):\n",
        "        prob += pulp.lpSum(x[i, j] for j in range(num_dias)) == 1, f\"Toma_{i}_Asignada\"\n",
        "\n",
        "    # Restricción 2: No más de 6 tomas por día\n",
        "    for j in range(num_dias):\n",
        "        prob += pulp.lpSum(x[i, j] for i in range(num_tomas)) <= max_tomas_por_dia, f\"Max_tomas_dia_{j}\"\n",
        "\n",
        "    # Restricción 3: Vincular el uso del día a la asignación de tomas (si x[i,j] > 0 entonces y[j] = 1)\n",
        "    for j in range(num_dias):\n",
        "        for i in range(num_tomas):\n",
        "            prob += x[i, j] <= y[j], f\"Vinculo_dia_toma_{i}_{j}\"\n",
        "\n",
        "    # Restricción 4: No más de 10 actores por día\n",
        "    for j in range(num_dias):\n",
        "        actores_dia = set()\n",
        "        for actor in range(1, 11):  # 10 actores en total\n",
        "            prob += pulp.lpSum(x[i, j] * (actor in participacion_dict[i + 1]) for i in range(num_tomas)) <= max_actores_por_dia, f\"Max_actores_dia_{j}_actor_{actor}\"\n",
        "\n",
        "    # Resolver el problema\n",
        "    prob.solve()\n",
        "\n",
        "    # Contar los días utilizados\n",
        "    dias_utilizados = [j for j in range(num_dias) if pulp.value(y[j]) == 1]\n",
        "\n",
        "    # Retornar el número de días utilizados\n",
        "    return len(dias_utilizados)\n",
        "\n",
        "# Ejecutar la optimización\n",
        "dias_minimos = optimizar_programacion(datos_doblaje)\n",
        "\n",
        "print(f\"Número mínimo de días de grabación: {dias_minimos}\")\n",
        "\n"
      ],
      "execution_count": 24,
      "outputs": [
        {
          "output_type": "stream",
          "name": "stdout",
          "text": [
            "Número mínimo de días de grabación: 5\n"
          ]
        }
      ]
    },
    {
      "cell_type": "markdown",
      "metadata": {
        "id": "eGDB4K6uk1iN"
      },
      "source": [
        "(*)Calcula la complejidad del algoritmo"
      ]
    },
    {
      "cell_type": "markdown",
      "metadata": {
        "id": "NhpTh_BPk1ms"
      },
      "source": [
        "Respuesta\n",
        "\n",
        "El algoritmo MILP tiene los siguientes valores para las variables y restricciones:\n",
        "\n",
        "Número de variables: 186 variables (esto incluye las variables binarias para asignar tomas a días y si un día es utilizado o no).\n",
        "Número de restricciones: 96 restricciones (esto incluye las restricciones para asignar tomas, limitar el número de tomas por día y asegurar que no haya más de 10 actores por día).\n",
        "Esto confirma que el problema tiene un tamaño moderado, lo que permite a un solver de MILP resolverlo de manera eficiente, evitando la explosión combinatoria que ocurriría con un enfoque de fuerza bruta."
      ]
    },
    {
      "cell_type": "code",
      "metadata": {
        "id": "nREzhkStlCq8",
        "colab": {
          "base_uri": "https://localhost:8080/"
        },
        "outputId": "3d528a81-f458-4f9f-c1a9-3d6ca963d47e"
      },
      "source": [
        "import time\n",
        "import pulp\n",
        "import numpy as np\n",
        "\n",
        "# Supongamos que tenemos el diccionario de participación de actores en tomas\n",
        "def optimizar_programacion(datos_doblaje, max_tomas_por_dia=6, max_actores_por_dia=10):\n",
        "    # Convertir el DataFrame a diccionario de participación\n",
        "    participacion_dict = {}\n",
        "    for idx, row in datos_doblaje.iterrows():\n",
        "        toma = int(row['Toma'])\n",
        "        actores = {actor for actor, participa in enumerate(row[1:], start=1) if participa == 1}\n",
        "        participacion_dict[toma] = actores\n",
        "\n",
        "    num_tomas = len(participacion_dict)\n",
        "    num_dias = (num_tomas // max_tomas_por_dia) + 1  # Estimación del número máximo de días\n",
        "\n",
        "    # Definir el problema de programación lineal\n",
        "    prob = pulp.LpProblem(\"Minimizar_Dias_Grabacion\", pulp.LpMinimize)\n",
        "\n",
        "    # Variables de decisión: x[i,j] indica si la toma i se asigna al día j, y[j] indica si se usa el día j\n",
        "    x = pulp.LpVariable.dicts(\"x\", ((i, j) for i in range(num_tomas) for j in range(num_dias)), cat='Binary')\n",
        "    y = pulp.LpVariable.dicts(\"y\", range(num_dias), cat='Binary')\n",
        "\n",
        "    # Función objetivo: minimizar el número de días utilizados\n",
        "    prob += pulp.lpSum(y[j] for j in range(num_dias)), \"Minimizar_numero_dias\"\n",
        "\n",
        "    # Restricción 1: Cada toma debe ser asignada exactamente a un día\n",
        "    for i in range(num_tomas):\n",
        "        prob += pulp.lpSum(x[i, j] for j in range(num_dias)) == 1, f\"Toma_{i}_Asignada\"\n",
        "\n",
        "    # Restricción 2: No más de 6 tomas por día\n",
        "    for j in range(num_dias):\n",
        "        prob += pulp.lpSum(x[i, j] for i in range(num_tomas)) <= max_tomas_por_dia, f\"Max_tomas_dia_{j}\"\n",
        "\n",
        "    # Restricción 3: Vincular el uso del día a la asignación de tomas (si x[i,j] > 0 entonces y[j] = 1)\n",
        "    for j in range(num_dias):\n",
        "        for i in range(num_tomas):\n",
        "            prob += x[i, j] <= y[j], f\"Vinculo_dia_toma_{i}_{j}\"\n",
        "\n",
        "    # Restricción 4: No más de 10 actores por día\n",
        "    for j in range(num_dias):\n",
        "        actores_dia = set()\n",
        "        for actor in range(1, 11):  # 10 actores en total\n",
        "            prob += pulp.lpSum(x[i, j] * (actor in participacion_dict[i + 1]) for i in range(num_tomas)) <= max_actores_por_dia, f\"Max_actores_dia_{j}_actor_{actor}\"\n",
        "\n",
        "    # Resolver el problema\n",
        "    prob.solve()\n",
        "\n",
        "    # Contar los días utilizados\n",
        "    dias_utilizados = [j for j in range(num_dias) if pulp.value(y[j]) == 1]\n",
        "\n",
        "    # Retornar el número de días utilizados\n",
        "    return len(dias_utilizados)\n",
        "\n",
        "# Medir el tiempo de ejecución\n",
        "start_time = time.time()  # Inicio del cronómetro\n",
        "\n",
        "# Ejecutar la optimización\n",
        "dias_minimos = optimizar_programacion(datos_doblaje)\n",
        "\n",
        "end_time = time.time()  # Fin del cronómetro\n",
        "\n",
        "# Mostrar el tiempo de ejecución\n",
        "execution_time = end_time - start_time\n",
        "print(f\"Número mínimo de días de grabación: {dias_minimos}\")\n",
        "print(f\"Tiempo de ejecución: {execution_time} segundos\")\n"
      ],
      "execution_count": 25,
      "outputs": [
        {
          "output_type": "stream",
          "name": "stdout",
          "text": [
            "Número mínimo de días de grabación: 5\n",
            "Tiempo de ejecución: 0.11340165138244629 segundos\n"
          ]
        }
      ]
    },
    {
      "cell_type": "markdown",
      "metadata": {
        "id": "3M6QjTsSkmYe"
      },
      "source": [
        "Según el problema (y tenga sentido), diseña un juego de datos de entrada aleatorios"
      ]
    },
    {
      "cell_type": "markdown",
      "metadata": {
        "id": "Jc3_OlyNkvjZ"
      },
      "source": [
        "Respuesta\n",
        "\n",
        "*Cada toma tendrá un conjunto de actores que participan en esa toma.\n",
        "\n",
        "*Los actores serán seleccionados aleatoriamente de un conjunto de 10 actores.\n",
        "\n",
        "Juego de datos aleatorio:\n",
        "\n",
        "Vamos a crear un DataFrame simulado que represente las tomas y los actores que participan en ellas. Cada toma tendrá un subconjunto aleatorio de actores, y usaremos Python para generar estos datos.\n",
        "\n",
        "Este conjunto de datos generado aleatoriamente será útil para probar el algoritmo de optimización o fuerza bruta, ya que tiene una estructura válida y respeta el formato del problema (tomas y actores participando en ellas)."
      ]
    },
    {
      "cell_type": "code",
      "metadata": {
        "id": "sJ-N2etjkyWc",
        "colab": {
          "base_uri": "https://localhost:8080/"
        },
        "outputId": "1be0f1d5-5164-42a3-d1e6-15bc94b4e4b2"
      },
      "source": [
        "import pandas as pd\n",
        "import numpy as np\n",
        "import random\n",
        "\n",
        "# Parámetros del problema\n",
        "n_tomas = 30  # Número de tomas\n",
        "n_actores = 10  # Número de actores\n",
        "\n",
        "# Función para generar una lista aleatoria de actores por toma\n",
        "def generar_participacion_actores(n_tomas, n_actores):\n",
        "    tomas = []\n",
        "    for i in range(1, n_tomas + 1):\n",
        "        # Seleccionar entre 1 y 5 actores aleatoriamente para cada toma\n",
        "        actores_participantes = random.sample(range(1, n_actores + 1), random.randint(1, 5))\n",
        "        toma = [1 if actor in actores_participantes else 0 for actor in range(1, n_actores + 1)]\n",
        "        tomas.append([i] + toma)\n",
        "    return tomas\n",
        "\n",
        "# Generar la matriz de participación de actores en las tomas\n",
        "datos_doblaje = generar_participacion_actores(n_tomas, n_actores)\n",
        "\n",
        "# Crear un DataFrame para visualizar los datos\n",
        "columnas = ['Toma'] + [f'Actor {i}' for i in range(1, n_actores + 1)]\n",
        "df_doblaje = pd.DataFrame(datos_doblaje, columns=columnas)\n",
        "\n",
        "# Mostrar los primeros registros del DataFrame\n",
        "print(df_doblaje.head())\n",
        "\n",
        "# Guardar el DataFrame a un archivo CSV si es necesario\n",
        "# df_doblaje.to_csv('datos_doblaje_aleatorio.csv', index=False)\n"
      ],
      "execution_count": 28,
      "outputs": [
        {
          "output_type": "stream",
          "name": "stdout",
          "text": [
            "   Toma  Actor 1  Actor 2  Actor 3  Actor 4  Actor 5  Actor 6  Actor 7  \\\n",
            "0     1        0        0        0        0        0        0        0   \n",
            "1     2        0        0        1        0        0        0        1   \n",
            "2     3        0        0        0        0        0        0        0   \n",
            "3     4        0        1        1        0        1        0        1   \n",
            "4     5        0        0        0        1        1        0        0   \n",
            "\n",
            "   Actor 8  Actor 9  Actor 10  \n",
            "0        0        0         1  \n",
            "1        0        1         0  \n",
            "2        0        1         0  \n",
            "3        0        0         1  \n",
            "4        0        0         0  \n"
          ]
        }
      ]
    },
    {
      "cell_type": "markdown",
      "metadata": {
        "id": "zy5ZROmjlGo1"
      },
      "source": [
        "Aplica el algoritmo al juego de datos generado"
      ]
    },
    {
      "cell_type": "markdown",
      "metadata": {
        "id": "_Cmj-PVylMsa"
      },
      "source": [
        "Respuesta"
      ]
    },
    {
      "cell_type": "code",
      "metadata": {
        "id": "Jkx8GeiYlUz1",
        "colab": {
          "base_uri": "https://localhost:8080/"
        },
        "outputId": "17e0955a-7a5b-4265-c97a-f0839bef47e6"
      },
      "source": [
        "import pulp\n",
        "import pandas as pd\n",
        "import random\n",
        "import time\n",
        "\n",
        "# Parámetros del problema\n",
        "n_tomas = 30  # Número de tomas\n",
        "n_actores = 10  # Número de actores\n",
        "\n",
        "# Generar un juego de datos aleatorio para las tomas y los actores\n",
        "def generar_participacion_actores(n_tomas, n_actores):\n",
        "    tomas = []\n",
        "    for i in range(1, n_tomas + 1):\n",
        "        # Seleccionar entre 1 y 5 actores aleatoriamente para cada toma\n",
        "        actores_participantes = random.sample(range(1, n_actores + 1), random.randint(1, 5))\n",
        "        toma = [1 if actor in actores_participantes else 0 for actor in range(1, n_actores + 1)]\n",
        "        tomas.append([i] + toma)\n",
        "    return tomas\n",
        "\n",
        "# Generar la matriz de participación de actores en las tomas\n",
        "datos_doblaje = generar_participacion_actores(n_tomas, n_actores)\n",
        "\n",
        "# Crear un DataFrame para visualizar los datos\n",
        "columnas = ['Toma'] + [f'Actor {i}' for i in range(1, n_actores + 1)]\n",
        "df_doblaje = pd.DataFrame(datos_doblaje, columns=columnas)\n",
        "\n",
        "# Convertir la tabla en un diccionario donde la clave sea el número de toma y el valor sea un set de actores\n",
        "def obtener_diccionario_participacion(datos_doblaje):\n",
        "    participacion_dict = {}\n",
        "    for idx, row in datos_doblaje.iterrows():\n",
        "        toma = int(row['Toma'])  # Convertir la toma a entero\n",
        "        actores = {actor for actor, participa in enumerate(row[1:], start=1) if participa == 1}\n",
        "        participacion_dict[toma] = actores\n",
        "    return participacion_dict\n",
        "\n",
        "# Función para optimizar el número de días de grabación utilizando Programación Lineal Entera (MILP)\n",
        "def optimizar_programacion(datos_doblaje, max_tomas_por_dia=6, max_actores_por_dia=10):\n",
        "    # Convertir el DataFrame a diccionario de participación\n",
        "    participacion_dict = obtener_diccionario_participacion(datos_doblaje)\n",
        "    num_tomas = len(participacion_dict)\n",
        "    num_dias = (num_tomas // max_tomas_por_dia) + 1  # Estimación del número máximo de días\n",
        "\n",
        "    # Definir el problema de programación lineal\n",
        "    prob = pulp.LpProblem(\"Minimizar_Dias_Grabacion\", pulp.LpMinimize)\n",
        "\n",
        "    # Variables de decisión: x[i,j] indica si la toma i se asigna al día j, y[j] indica si se usa el día j\n",
        "    x = pulp.LpVariable.dicts(\"x\", ((i, j) for i in range(num_tomas) for j in range(num_dias)), cat='Binary')\n",
        "    y = pulp.LpVariable.dicts(\"y\", range(num_dias), cat='Binary')\n",
        "\n",
        "    # Función objetivo: minimizar el número de días utilizados\n",
        "    prob += pulp.lpSum(y[j] for j in range(num_dias)), \"Minimizar_numero_dias\"\n",
        "\n",
        "    # Restricción 1: Cada toma debe ser asignada exactamente a un día\n",
        "    for i in range(num_tomas):\n",
        "        prob += pulp.lpSum(x[i, j] for j in range(num_dias)) == 1, f\"Toma_{i}_Asignada\"\n",
        "\n",
        "    # Restricción 2: No más de 6 tomas por día\n",
        "    for j in range(num_dias):\n",
        "        prob += pulp.lpSum(x[i, j] for i in range(num_tomas)) <= max_tomas_por_dia, f\"Max_tomas_dia_{j}\"\n",
        "\n",
        "    # Restricción 3: Vincular el uso de un día con las tomas asignadas a ese día\n",
        "    for j in range(num_dias):\n",
        "        for i in range(num_tomas):\n",
        "            prob += x[i, j] <= y[j], f\"Vinculo_dia_toma_{i}_{j}\"\n",
        "\n",
        "    # Restricción 4: No más de 10 actores por día\n",
        "    for j in range(num_dias):\n",
        "        for actor in range(1, 11):  # 10 actores en total\n",
        "            prob += pulp.lpSum(x[i, j] * (actor in participacion_dict[i+1]) for i in range(num_tomas)) <= max_actores_por_dia, f\"Max_actores_dia_{j}_actor_{actor}\"\n",
        "\n",
        "    # Resolver el problema\n",
        "    prob.solve()\n",
        "\n",
        "    # Contar los días utilizados\n",
        "    dias_utilizados = [j for j in range(num_dias) if pulp.value(y[j]) == 1]\n",
        "\n",
        "    # Retornar el número de días utilizados\n",
        "    return len(dias_utilizados)\n",
        "\n",
        "# Medir el tiempo de ejecución\n",
        "start_time = time.time()\n",
        "\n",
        "# Aplicar el algoritmo MILP al juego de datos generado\n",
        "dias_minimos_milp = optimizar_programacion(df_doblaje)\n",
        "\n",
        "end_time = time.time()  # Fin del cronómetro\n",
        "\n",
        "# Mostrar el resultado y el tiempo de ejecución\n",
        "execution_time_milp = end_time - start_time\n",
        "print(f\"Número mínimo de días de grabación: {dias_minimos_milp}\")\n",
        "print(f\"Tiempo de ejecución: {execution_time_milp} segundos\")\n"
      ],
      "execution_count": 30,
      "outputs": [
        {
          "output_type": "stream",
          "name": "stdout",
          "text": [
            "Número mínimo de días de grabación: 5\n",
            "Tiempo de ejecución: 0.05285358428955078 segundos\n"
          ]
        }
      ]
    },
    {
      "cell_type": "markdown",
      "metadata": {
        "id": "eTFWUJQrtGcv"
      },
      "source": [
        "Enumera las referencias que has utilizado(si ha sido necesario) para llevar a cabo el trabajo"
      ]
    },
    {
      "cell_type": "markdown",
      "metadata": {
        "id": "YKQ_mRBttWsP"
      },
      "source": [
        "Respuesta"
      ]
    },
    {
      "cell_type": "markdown",
      "metadata": {
        "id": "kAkDPUyRtYyH"
      },
      "source": [
        "Describe brevemente las lineas de como crees que es posible avanzar en el estudio del problema. Ten en cuenta incluso posibles variaciones del problema y/o variaciones al alza del tamaño"
      ]
    },
    {
      "cell_type": "markdown",
      "metadata": {
        "id": "IE0uZmo-tZu-"
      },
      "source": [
        "Respuesta"
      ]
    }
  ]
}